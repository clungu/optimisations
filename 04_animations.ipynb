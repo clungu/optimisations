{
 "cells": [
  {
   "cell_type": "code",
   "execution_count": null,
   "metadata": {},
   "outputs": [],
   "source": [
    "# default_exp animations"
   ]
  },
  {
   "cell_type": "markdown",
   "metadata": {},
   "source": [
    "# Animations\n",
    "> This module contains the utilities needed to generate animations of how an `optimize` object progresses on a given `Ifunction` surface. This supports both `derivative-based` (like `SGD`, `Adam`, etc..) or `derivative-free` optimization methods"
   ]
  },
  {
   "cell_type": "code",
   "execution_count": null,
   "metadata": {},
   "outputs": [],
   "source": [
    "#hide\n",
    "%load_ext autoreload\n",
    "%autoreload 2"
   ]
  },
  {
   "cell_type": "code",
   "execution_count": null,
   "metadata": {},
   "outputs": [
    {
     "data": {
      "application/vnd.jupyter.widget-view+json": {
       "model_id": "2d213623b97445b69b27cf6f2e3afbe5",
       "version_major": 2,
       "version_minor": 0
      },
      "text/plain": [
       "interactive(children=(IntSlider(value=45, description='azimuth', max=135, min=-45), IntSlider(value=45, descri…"
      ]
     },
     "metadata": {},
     "output_type": "display_data"
    }
   ],
   "source": [
    "#exporti\n",
    "import matplotlib.animation as animation\n",
    "from matplotlib import pyplot as plt\n",
    "from IPython.display import HTML, display\n",
    "from itertools import cycle\n",
    "from typing import List, Union\n",
    "from cycler import cycler\n",
    "from functools import partial\n",
    "from mpl_toolkits.mplot3d.art3d import Line3D, Poly3DCollection\n",
    "import numpy as np\n",
    "from itertools import islice\n",
    "\n",
    "from optimisations.graphics import plot_function\n",
    "from optimisations.graphics import rotate\n",
    "from optimisations.optimizers import optimize"
   ]
  },
  {
   "cell_type": "code",
   "execution_count": null,
   "metadata": {},
   "outputs": [
    {
     "ename": "ModuleNotFoundError",
     "evalue": "No module named 'optimisations.renderers'",
     "output_type": "error",
     "traceback": [
      "\u001b[0;31m---------------------------------------------------------------------------\u001b[0m",
      "\u001b[0;31mModuleNotFoundError\u001b[0m                       Traceback (most recent call last)",
      "\u001b[0;32m<ipython-input-4-6ff507980361>\u001b[0m in \u001b[0;36m<module>\u001b[0;34m\u001b[0m\n\u001b[1;32m      1\u001b[0m \u001b[0;31m#export\u001b[0m\u001b[0;34m\u001b[0m\u001b[0;34m\u001b[0m\u001b[0m\n\u001b[0;32m----> 2\u001b[0;31m \u001b[0;32mfrom\u001b[0m \u001b[0moptimisations\u001b[0m\u001b[0;34m.\u001b[0m\u001b[0mrenderers\u001b[0m \u001b[0;32mimport\u001b[0m \u001b[0mdecorate_with_derivative_based_plot\u001b[0m\u001b[0;34m\u001b[0m\u001b[0m\n\u001b[0m\u001b[1;32m      3\u001b[0m \u001b[0;34m\u001b[0m\u001b[0m\n\u001b[1;32m      4\u001b[0m renderers = {\n\u001b[1;32m      5\u001b[0m     \u001b[0;34m'sgd'\u001b[0m\u001b[0;34m:\u001b[0m \u001b[0mdecorate_with_derivative_based_plot\u001b[0m\u001b[0;34m,\u001b[0m\u001b[0;34m\u001b[0m\u001b[0m\n",
      "\u001b[0;31mModuleNotFoundError\u001b[0m: No module named 'optimisations.renderers'"
     ]
    }
   ],
   "source": [
    "#export\n",
    "from optimisations.renderers import decorate_with_derivative_based_plot\n",
    "\n",
    "renderers = {\n",
    "    'sgd': decorate_with_derivative_based_plot,\n",
    "    'rmsprop': decorate_with_derivative_based_plot,\n",
    "    'adamax': decorate_with_derivative_based_plot,\n",
    "    'adam': decorate_with_derivative_based_plot,\n",
    "    'momentum': decorate_with_derivative_based_plot,\n",
    "#     'ga': decorate_with_genetic_algo_plot\n",
    "}\n",
    "\n",
    "\n",
    "def single_frame(i, optimisations: Union[optimize, List[optimize]], figure: Figure, renderers: dict):\n",
    "    # make sure we have a list of optimizers going forward\n",
    "    optimisations = [optimisations] if isinstance(optimisations, optimize) else optimisations\n",
    "\n",
    "    figure.ax_3d.clear()\n",
    "    figure.ax_2d.clear()\n",
    "    \n",
    "    assert len(optimisations) >= 1, f\"We need at least one optimisation to animate, but {len(optimisations)} given.\"\n",
    "    # assert all functions to optimise have the same definition\n",
    "\n",
    "    plot_function(optimisations[0].function, angle=figure.angle, fig=figure.fig, ax_3d=figure.ax_3d, ax_2d=figure.ax_2d, contour_log_scale=figure.contour_log_scale, azimuth_3d=figure.azimuth_3d, zoom_factor=figure.zoom_factor)\n",
    "    \n",
    "    for i, optimisation in enumerate(optimisations):\n",
    "        if optimisation.optimizer_name not in renderers and i <= 1:  # only show this error once\n",
    "            print(f\"Couldn't find a propper renderer for function named {optimisation.optimizer_name}. Will try to use the default `decorate_with_derivative_based_plot` method.\")\n",
    "        renderer = renderers.get(optimisation.optimizer_name, decorate_with_derivative_based_plot)\n",
    "        \n",
    "        renderer(i, optimisation, figure)\n",
    "\n",
    "    figure.ax_2d.plot()\n",
    "    print(\".\", end =\"\")"
   ]
  },
  {
   "cell_type": "code",
   "execution_count": null,
   "metadata": {},
   "outputs": [],
   "source": [
    "from optimisations.optimizers import optimize_multi\n",
    "from jax.experimental.optimizers import adam\n",
    "\n",
    "function = himmelblau()\n",
    "\n",
    "figure=Figure(\n",
    "    fig=plt.figure(figsize=(13,5)), \n",
    "    contour_log_scale=False, \n",
    "    angle=45-90, \n",
    "    zoom_factor=-0.5\n",
    ")\n",
    "figure.fig, figure.ax_3d, figure.ax_2d = plot_function(function, fig=figure.fig, angle=figure.angle, contour_log_scale=figure.contour_log_scale, zoom_factor=figure.zoom_factor)\n",
    "\n",
    "\n",
    "single_frame(\n",
    "    0,\n",
    "    optimize_multi(function)\n",
    "        .using([\n",
    "            (sgd(step_size=0.01), \"sgd\", True),\n",
    "            (adam(step_size=0.3), \"adam\", True),\n",
    "        ])\n",
    "        .start_from([-1., 1.])\n",
    "        .tolist(),\n",
    "    figure=figure,\n",
    "    renderers=renderers\n",
    ");"
   ]
  },
  {
   "cell_type": "code",
   "execution_count": null,
   "metadata": {},
   "outputs": [],
   "source": [
    "#export\n",
    "def animate(optimisations: Union[optimize, List[optimize]], figure: Figure=None, renderers=renderers, frames=20, interval=50, output='mp4'):\n",
    "    optimisations = [optimisations] if isinstance(optimisations, optimize) else optimisations\n",
    "    \n",
    "    assert len(optimisations) >= 1, f\"We need at least one optimisation to animate, but {len(optimisations)} given.\"\n",
    "    \n",
    "    if figure is None:\n",
    "        figure=Figure(\n",
    "            fig=plt.figure(figsize=(13,5)), \n",
    "            contour_log_scale=False, \n",
    "            angle=45,\n",
    "        )\n",
    "        \n",
    "    figure.fig, figure.ax_3d, figure.ax_2d = plot_function(optimisations[0].function, fig=figure.fig, angle=figure.angle, contour_log_scale=figure.contour_log_scale, zoom_factor=figure.zoom_factor)\n",
    "    figure.fig.tight_layout()\n",
    "\n",
    "    animator = animation.FuncAnimation(figure.fig, partial(single_frame, figure=figure, renderers=renderers), fargs=(optimisations,), frames=frames, interval=interval, blit=False)\n",
    "    \n",
    "    if output == 'mp4':\n",
    "        video = animator.to_html5_video()\n",
    "    elif output == 'js':\n",
    "        video = animator.to_jshtml()\n",
    "    else:\n",
    "        raise ValueError(f\"Provided output type {output} is unknown. Use one of 'mp4' or 'js'\")\n",
    "    \n",
    "    display(HTML(video))\n",
    "    plt.close()\n",
    "\n",
    "    return video"
   ]
  },
  {
   "cell_type": "markdown",
   "metadata": {},
   "source": [
    "> Note: The generation of the function is quite slow, as it doesn't use the `matplotlib`s `set_data` &co functions. For simplicity it generates new plots for each new frame. Since this is not intended to be used in real time, this is good enough for once-in-a-while generation."
   ]
  },
  {
   "cell_type": "code",
   "execution_count": null,
   "metadata": {},
   "outputs": [],
   "source": [
    "from jax.experimental.optimizers import sgd\n",
    "\n",
    "animate(\n",
    "    optimize_multi(himmelblau())\n",
    "        .using([\n",
    "            (sgd(step_size=0.01), \"sgd\", True),\n",
    "            (adam(step_size=0.3), \"adam\", True),\n",
    "        ])\n",
    "        .start_from([-1., 1.])\n",
    "        .tolist(),\n",
    "    frames=20,\n",
    "    interval=50,\n",
    "    figure=Figure(\n",
    "        fig=plt.figure(figsize=(13,5)), \n",
    "        contour_log_scale=False, \n",
    "        angle=45-90, \n",
    "        zoom_factor=-0.5\n",
    "    )\n",
    ");"
   ]
  },
  {
   "cell_type": "markdown",
   "metadata": {},
   "source": [
    "## Usage examples"
   ]
  },
  {
   "cell_type": "markdown",
   "metadata": {},
   "source": [
    "Basic usage of the `animate` function for a single `optimize` object (in this case `JAX`s `sgd` implementation)"
   ]
  },
  {
   "cell_type": "code",
   "execution_count": null,
   "metadata": {},
   "outputs": [],
   "source": [
    "from jax.experimental.optimizers import sgd, adam\n",
    "from optimisations.functions import saddle_point\n",
    "from optimisations.optimizers import optimize_multi\n",
    "\n",
    "animate(\n",
    "    optimize(saddle_point())\n",
    "        .using(sgd(step_size=0.3), name=\"sgd\", derivatives_based=True)\n",
    "        .start_from([0.0003, 0.01]),\n",
    "    frames=7\n",
    ");"
   ]
  },
  {
   "cell_type": "markdown",
   "metadata": {},
   "source": [
    "Usage for a concurrent optimization animation"
   ]
  },
  {
   "cell_type": "code",
   "execution_count": null,
   "metadata": {},
   "outputs": [],
   "source": [
    "from jax.experimental.optimizers import sgd, adam, rmsprop, adagrad, nesterov\n",
    "\n",
    "animate(\n",
    "    optimize_multi(saddle_point())\n",
    "        .using([\n",
    "            (sgd(step_size=0.1), \"sgd\", True),\n",
    "            (adam(step_size=0.01), \"adam\", True),\n",
    "            (rmsprop(step_size=0.01), \"rmsprop\", True),\n",
    "            (adagrad(step_size=0.1), \"adagrad\", True),\n",
    "            (nesterov(mass=0.1, step_size=0.1), \"nesterov\", True),\n",
    "        ])\n",
    "        .start_from([-0.0003, -0.01])\n",
    "        .tolist(),\n",
    "    frames=10,\n",
    "    interval=50,\n",
    "    figure=Figure(\n",
    "        fig=plt.figure(figsize=(13,5)), \n",
    "        contour_log_scale=False,\n",
    "    )\n",
    ");"
   ]
  },
  {
   "cell_type": "code",
   "execution_count": null,
   "metadata": {},
   "outputs": [],
   "source": []
  }
 ],
 "metadata": {
  "kernelspec": {
   "display_name": "Python 3",
   "language": "python",
   "name": "python3"
  }
 },
 "nbformat": 4,
 "nbformat_minor": 4
}
