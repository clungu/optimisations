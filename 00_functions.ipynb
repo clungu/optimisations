{
 "cells": [
  {
   "cell_type": "code",
   "execution_count": null,
   "metadata": {},
   "outputs": [],
   "source": [
    "# default_exp functions"
   ]
  },
  {
   "cell_type": "markdown",
   "metadata": {},
   "source": [
    "# Functions\n",
    "\n",
    "> API details."
   ]
  },
  {
   "cell_type": "code",
   "execution_count": null,
   "metadata": {},
   "outputs": [],
   "source": [
    "#exporti\n",
    "from nbdev.showdoc import *\n",
    "import numpy as np\n",
    "import numpy as np\n",
    "from mpl_toolkits import mplot3d\n",
    "from matplotlib import pyplot as plt\n",
    "import matplotlib.colors as colors\n",
    "\n",
    "import jax.numpy as jnp"
   ]
  },
  {
   "cell_type": "markdown",
   "metadata": {},
   "source": [
    "An objective function must implement the interface bellow. For now, we only allow for 2D function definitions because n-dimensional can't be easily represented."
   ]
  },
  {
   "cell_type": "code",
   "execution_count": null,
   "metadata": {},
   "outputs": [],
   "source": [
    "#exports\n",
    "class Ifunction:\n",
    "    def __init__(self):\n",
    "        pass \n",
    "\n",
    "    def __call__(*args) -> np.ndarray:\n",
    "        pass\n",
    "\n",
    "    def min(self) -> np.ndarray:\n",
    "        \"\"\"\n",
    "        Returns a np.array of the shape (k, 3) with all the minimum k points of this function. \n",
    "        The two values of the second dimension are the (x,y,z) coordinates of the minimum values \n",
    "        \"\"\"\n",
    "        return self.coord(self._min())\n",
    "\n",
    "    def coord(self, points: np.ndarray) -> np.ndarray:\n",
    "        \"\"\"\n",
    "        Returns a np.array of the shape (k, 3) with all the evaluations of the given\n",
    "        k points of this function. \n",
    "        The three values of the second dimension are the (x,y,z) coordinates of the minimum values \n",
    "        \"\"\"\n",
    "        z = np.expand_dims(self(points[:, 0], points[:, 1]), axis=-1)\n",
    "        return np.hstack((\n",
    "            points,\n",
    "            z\n",
    "        ))\n",
    "\n",
    "    def domain(self) -> np.ndarray:\n",
    "        \"\"\"\n",
    "        Returns the ((x_min, x_max), (y_min, y_max)) values where this function \n",
    "        is of most interest\n",
    "        \"\"\"\n",
    "        pass"
   ]
  },
  {
   "cell_type": "markdown",
   "metadata": {},
   "source": [
    "# Function implementations"
   ]
  },
  {
   "cell_type": "code",
   "execution_count": null,
   "metadata": {},
   "outputs": [],
   "source": [
    "#export\n",
    "class himmelblau(Ifunction):\n",
    "    def __call__(self, x: np.ndarray, y: np.ndarray) -> np.ndarray:\n",
    "        \"\"\"\n",
    "        Computes the given function\n",
    "        \"\"\"\n",
    "        return (x**2+y-11)**2 + (x+y**2-7)**2\n",
    "    \n",
    "    def _min(self) -> np.ndarray:\n",
    "        \"\"\"\n",
    "        Returns a np.array of the shape (k, 2) with all the minimum k points of this function. \n",
    "        The two values of the second dimension are the (x,y) coordinates of the minimum values \n",
    "        \"\"\"\n",
    "        return np.array([\n",
    "            [3.0, 2.0],\n",
    "            [-2.805118, 3.131312],\n",
    "            [-3.779310, -3.283186],\n",
    "            [3.584428, -1.848126]\n",
    "        ])\n",
    "\n",
    "    def domain(self) -> np.ndarray:\n",
    "        \"\"\"\n",
    "        Returns the ((x_min, x_max), (y_min, y_max)) values where this function \n",
    "        is of most interest\n",
    "        \"\"\"\n",
    "        return np.array([\n",
    "            [-5, 5],\n",
    "            [-5, 5]\n",
    "        ])"
   ]
  },
  {
   "cell_type": "markdown",
   "metadata": {},
   "source": [
    "[Himmelblau's function](https://en.wikipedia.org/wiki/Himmelblau%27s_function): $$f(x, y) = (x^2+y-11)^2 + (x+y^2-7)^2$$\n",
    "\n",
    "![image.png](https://upload.wikimedia.org/wikipedia/commons/thumb/a/ad/Himmelblau_function.svg/400px-Himmelblau_function.svg.png)\n"
   ]
  },
  {
   "cell_type": "code",
   "execution_count": null,
   "metadata": {},
   "outputs": [],
   "source": [
    "#export\n",
    "class eggholder(Ifunction):\n",
    "    def __call__(self, x: jnp.ndarray, y: jnp.ndarray) -> np.ndarray:\n",
    "        \"\"\"\n",
    "        Computes the given function\n",
    "        \"\"\"\n",
    "        return -(y+47)*jnp.sin(jnp.sqrt(jnp.abs(x/2+(y+47)))) - x*jnp.sin(jnp.sqrt(jnp.abs(x-(y+47))))\n",
    "    \n",
    "    def _min(self) -> np.ndarray:\n",
    "        \"\"\"\n",
    "        Returns a np.array of the shape (k, 2) with all the minimum k points of this function. \n",
    "        The two values of the second dimension are the (x,y) coordinates of the minimum values \n",
    "        \"\"\"\n",
    "        return np.array([\n",
    "            [512, 404.239],\n",
    "        ])\n",
    "\n",
    "    def domain(self) -> np.ndarray:\n",
    "        \"\"\"\n",
    "        Returns the ((x_min, x_max), (y_min, y_max)) values where this function \n",
    "        is of most interest\n",
    "        \"\"\"\n",
    "        return np.array([\n",
    "            [-512, 512],\n",
    "            [-512, 512]\n",
    "        ])"
   ]
  },
  {
   "cell_type": "markdown",
   "metadata": {},
   "source": [
    "[Eggholder function](https://en.wikipedia.org/wiki/Test_functions_for_optimization): $$f(x, y) = -(y+47)\\sin{\\sqrt{|\\frac{x}{2} + (y+47)|}} - x\\sin{\\sqrt{|x-(y+47)|}}$$ "
   ]
  },
  {
   "attachments": {},
   "cell_type": "markdown",
   "metadata": {},
   "source": [
    "![image.png](https://upload.wikimedia.org/wikipedia/commons/thumb/e/e7/Eggholder_function.pdf/page1-400px-Eggholder_function.pdf.jpg)"
   ]
  },
  {
   "cell_type": "code",
   "execution_count": null,
   "metadata": {},
   "outputs": [],
   "source": [
    "#export\n",
    "class mc_cormick(Ifunction):\n",
    "    def __call__(self, x: jnp.ndarray, y: jnp.ndarray) -> np.ndarray:\n",
    "        \"\"\"\n",
    "        Computes the given function\n",
    "        \"\"\"\n",
    "        return jnp.sin(x+y) + (x-y)**2-1.5*x+2.5*y+1\n",
    "    \n",
    "    def _min(self) -> np.ndarray:\n",
    "        \"\"\"\n",
    "        Returns a np.array of the shape (k, 2) with all the minimum k points of this function. \n",
    "        The two values of the second dimension are the (x,y) coordinates of the minimum values \n",
    "        \"\"\"\n",
    "        return np.array([\n",
    "            [-0.54719, -1.54719],\n",
    "        ])\n",
    "\n",
    "    def domain(self) -> np.ndarray:\n",
    "        \"\"\"\n",
    "        Returns the ((x_min, x_max), (y_min, y_max)) values where this function \n",
    "        is of most interest\n",
    "        \"\"\"\n",
    "        return np.array([\n",
    "            [-1.5, 4],\n",
    "            [-3, 4]\n",
    "        ])"
   ]
  },
  {
   "cell_type": "markdown",
   "metadata": {},
   "source": [
    "[McCormick_function](https://en.wikipedia.org/wiki/Test_functions_for_optimization):\n",
    "$$f(x,y)=$$\n",
    "![image.png](https://upload.wikimedia.org/wikipedia/commons/thumb/c/c0/McCormick_function.pdf/page1-400px-McCormick_function.pdf.jpg)"
   ]
  },
  {
   "cell_type": "code",
   "execution_count": null,
   "metadata": {},
   "outputs": [],
   "source": [
    "#export\n",
    "class holder_table(Ifunction):\n",
    "    def __call__(self, x: jnp.ndarray, y: jnp.ndarray) -> np.ndarray:\n",
    "        \"\"\"\n",
    "        Computes the given function\n",
    "        \"\"\"\n",
    "        return -jnp.abs(jnp.sin(x)*jnp.cos(y)*jnp.exp(jnp.abs(1-jnp.sqrt(x**2+y**2)/jnp.pi)))\n",
    "    \n",
    "    def _min(self) -> np.ndarray:\n",
    "        \"\"\"\n",
    "        Returns a np.array of the shape (k, 2) with all the minimum k points of this function. \n",
    "        The two values of the second dimension are the (x,y) coordinates of the minimum values \n",
    "        \"\"\"\n",
    "        return np.array([\n",
    "            [8.05502, 9.66459],\n",
    "            [8.05502, -9.66459],\n",
    "            [-8.05502, 9.66459],\n",
    "            [-8.05502, -9.66459],\n",
    "        ])\n",
    "\n",
    "    def domain(self) -> np.ndarray:\n",
    "        \"\"\"\n",
    "        Returns the ((x_min, x_max), (y_min, y_max)) values where this function \n",
    "        is of most interest\n",
    "        \"\"\"\n",
    "        return np.array([\n",
    "            [-10, 10],\n",
    "            [-10, 10]\n",
    "        ])\n"
   ]
  },
  {
   "cell_type": "markdown",
   "metadata": {},
   "source": [
    "[Hölder table function](https://en.wikipedia.org/wiki/Test_functions_for_optimization): \n",
    "$$f(x,y)=-\\left\\lvert \\sin{x} \\cos{y}\\exp{\\left( \\left\\lvert 1 - \\frac{\\sqrt{x^2+y^2}}{\\pi} \\right\\rvert \\right)} \\right\\rvert $$\n",
    "\n",
    "![image.png](https://upload.wikimedia.org/wikipedia/commons/thumb/7/72/Holder_table_function.pdf/page1-400px-Holder_table_function.pdf.jpg)"
   ]
  },
  {
   "cell_type": "code",
   "execution_count": null,
   "metadata": {},
   "outputs": [],
   "source": [
    "#export\n",
    "class beale(Ifunction):\n",
    "    def __call__(self, x: jnp.ndarray, y: jnp.ndarray) -> np.ndarray:\n",
    "        \"\"\"\n",
    "        Computes the given function\n",
    "        \"\"\"\n",
    "        return (1.5-x+x*y)**2 + (2.25 - x + x*y**2)**2 + (2.625 - x + x*y**3)**2\n",
    "    \n",
    "    def _min(self) -> np.ndarray:\n",
    "        \"\"\"\n",
    "        Returns a np.array of the shape (k, 2) with all the minimum k points of this function. \n",
    "        The two values of the second dimension are the (x,y) coordinates of the minimum values \n",
    "        \"\"\"\n",
    "        return np.array([\n",
    "            [3, 0.5],\n",
    "        ])\n",
    "\n",
    "    def domain(self) -> np.ndarray:\n",
    "        \"\"\"\n",
    "        Returns the ((x_min, x_max), (y_min, y_max)) values where this function \n",
    "        is of most interest\n",
    "        \"\"\"\n",
    "        return np.array([\n",
    "            [-4, 4],\n",
    "            [-4, 4]\n",
    "        ])\n"
   ]
  },
  {
   "cell_type": "markdown",
   "metadata": {},
   "source": [
    "[Beale function](https://en.wikipedia.org/wiki/Test_functions_for_optimization):\n",
    "$$f(x,y)=$$\n",
    "![image.png](https://upload.wikimedia.org/wikipedia/commons/thumb/d/de/Beale%27s_function.pdf/page1-400px-Beale%27s_function.pdf.jpg)"
   ]
  },
  {
   "cell_type": "code",
   "execution_count": null,
   "metadata": {},
   "outputs": [],
   "source": [
    "#export\n",
    "class saddle_point(Ifunction):\n",
    "    def __call__(self, x: jnp.ndarray, y: jnp.ndarray) -> np.ndarray:\n",
    "        \"\"\"\n",
    "        Computes the given function\n",
    "        \"\"\"\n",
    "        return x**2 - y**2\n",
    "    \n",
    "    def _min(self) -> np.ndarray:\n",
    "        \"\"\"\n",
    "        Returns a np.array of the shape (k, 2) with all the minimum k points of this function. \n",
    "        The two values of the second dimension are the (x,y) coordinates of the minimum values \n",
    "        \"\"\"\n",
    "        return np.array([\n",
    "            [3, 0.5],\n",
    "        ])\n",
    "\n",
    "    def domain(self) -> np.ndarray:\n",
    "        \"\"\"\n",
    "        Returns the ((x_min, x_max), (y_min, y_max)) values where this function \n",
    "        is of most interest\n",
    "        \"\"\"\n",
    "        return np.array([\n",
    "            [-1.5, 1],\n",
    "            [-1.5, 1]\n",
    "        ])\n"
   ]
  },
  {
   "cell_type": "markdown",
   "metadata": {},
   "source": [
    "[Saddle point function](https://en.wikipedia.org/wiki/Saddle_point):\n",
    "$$f(x,y)=x^2-y^2$$\n",
    "\n",
    "![image.png](https://upload.wikimedia.org/wikipedia/commons/thumb/1/1e/Saddle_point.svg/600px-Saddle_point.svg.png)"
   ]
  },
  {
   "cell_type": "markdown",
   "metadata": {},
   "source": [
    "Let's collect all the functions implemented into a single datastructure."
   ]
  },
  {
   "cell_type": "code",
   "execution_count": null,
   "metadata": {},
   "outputs": [
    {
     "data": {
      "text/plain": [
       "{'himmelblau': <__main__.himmelblau at 0x1317db3c8>,\n",
       " 'eggholder': <__main__.eggholder at 0x1317db358>,\n",
       " 'mc_cormick': <__main__.mc_cormick at 0x1317dbc50>,\n",
       " 'holder_table': <__main__.holder_table at 0x1317db7b8>,\n",
       " 'beale': <__main__.beale at 0x1317db710>,\n",
       " 'saddle_point': <__main__.saddle_point at 0x1317dba58>}"
      ]
     },
     "execution_count": null,
     "metadata": {},
     "output_type": "execute_result"
    }
   ],
   "source": [
    "#exports\n",
    "Function = {clazz.__name__: clazz() for clazz in Ifunction.__subclasses__()}\n",
    "Function"
   ]
  },
  {
   "cell_type": "markdown",
   "metadata": {},
   "source": [
    "> Note: All functions are implemented using `JAX` because it allows us to use auto-differentiation. We need this capability so we can try implementing some optimizations techniques that require the gradient of the objective function.\n",
    "\n",
    "If we call `grad` it compiles a callable for us that we can use to get the partial derivatives with. The `argnum` part is needed because we have to specify that there are two parameters the parent function uses, and we want the derivative to both of them.\n",
    "\n",
    "When implementing Linear Regression or Neural Networks, all the parameters usually sit in a single large matrix, which is the only argument of the function so usually we only need `argnums=0` which is the default. Except in this case where the parameters are passed individually."
   ]
  },
  {
   "cell_type": "code",
   "execution_count": null,
   "metadata": {},
   "outputs": [
    {
     "name": "stderr",
     "output_type": "stream",
     "text": [
      "WARNING:absl:No GPU/TPU found, falling back to CPU. (Set TF_CPP_MIN_LOG_LEVEL=0 and rerun for more info.)\n"
     ]
    },
    {
     "data": {
      "text/plain": [
       "(DeviceArray(-24., dtype=float32), DeviceArray(40., dtype=float32))"
      ]
     },
     "execution_count": null,
     "metadata": {},
     "output_type": "execute_result"
    }
   ],
   "source": [
    "from jax import grad\n",
    "\n",
    "function_grad = grad(himmelblau(), argnums=(0, 1))    # we want the derivative of both arguments\n",
    "function_grad(2., 3.)"
   ]
  },
  {
   "cell_type": "code",
   "execution_count": null,
   "metadata": {},
   "outputs": [],
   "source": []
  }
 ],
 "metadata": {
  "kernelspec": {
   "display_name": "Python 3",
   "language": "python",
   "name": "python3"
  }
 },
 "nbformat": 4,
 "nbformat_minor": 2
}
