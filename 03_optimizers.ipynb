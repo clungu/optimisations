{
 "cells": [
  {
   "cell_type": "code",
   "execution_count": null,
   "metadata": {},
   "outputs": [],
   "source": [
    "# default_exp optimizers"
   ]
  },
  {
   "cell_type": "code",
   "execution_count": null,
   "metadata": {},
   "outputs": [],
   "source": [
    "#exporti\n",
    "from jax import grad\n",
    "from functools import partial\n",
    "import numpy as np\n",
    "from typing import Callable, Union"
   ]
  },
  {
   "cell_type": "markdown",
   "metadata": {},
   "source": [
    "# Optimizers\n",
    "\n",
    "> This module implements interfaces and several known optimizers that can be tested against different functions"
   ]
  },
  {
   "cell_type": "code",
   "execution_count": null,
   "metadata": {},
   "outputs": [],
   "source": [
    "#exporti\n",
    "def tuple_float_cast(_tuple):\n",
    "    x, y = _tuple\n",
    "    return np.round(float(x), 3), np.round(float(y), 3)\n",
    "\n",
    "class History(list):\n",
    "    \"\"\"\n",
    "    This object stores the states through which an optimizer has passed through.\n",
    "    \n",
    "    Normally we would have just a list for this but because we are storing `jax` states,\n",
    "    we need to subclass the `__repr__` method so we process the output a bit \n",
    "    (displaying the parameters of the state) and not the state in itself\n",
    "    \"\"\"\n",
    "    def __repr__(self):\n",
    "        if not hasattr(self, '_get_params'):\n",
    "            return super().__repr__()\n",
    "        else:\n",
    "            elements = [tuple_float_cast(self._get_params(state)) for state in self]\n",
    "            return str(elements)"
   ]
  },
  {
   "cell_type": "code",
   "execution_count": null,
   "metadata": {},
   "outputs": [],
   "source": [
    "#hide\n",
    "h = History([(1, 2), (2, 3), (4, 5)])\n",
    "assert str(h) == str([(1, 2), (2, 3), (4, 5)])\n",
    "\n",
    "h._get_params = lambda x: x\n",
    "assert str(h) == str([(1.0, 2.0), (2.0, 3.0), (4.0, 5.0)]), str(h)"
   ]
  },
  {
   "cell_type": "code",
   "execution_count": null,
   "metadata": {},
   "outputs": [],
   "source": [
    "#exporti\n",
    "\"\"\"\n",
    "Each class of optimizers has a special calling convention.\n",
    "It's unfortunte that we can't just subclass the optimizers and inject our custom method\n",
    "and we need to do this. This happens because the optimziers are written in a pure functional\n",
    "style, and the methods are just functions that share state between them, back and forth.\n",
    "\"\"\"\n",
    "def _derivatives_based_update(i, state, update_fn, get_params_fn, grad_fn):\n",
    "    params = get_params_fn(state)\n",
    "    grads = grad_fn(*params)\n",
    "    return update_fn(i, grads, state)\n",
    "\n",
    "def _derivatives_free_update(i, state, update_fn, function):\n",
    "    return update_fn(i, function, state)"
   ]
  },
  {
   "cell_type": "code",
   "execution_count": null,
   "metadata": {},
   "outputs": [],
   "source": [
    "#export\n",
    "class optimize:\n",
    "    def __init__(self, function):\n",
    "        self.function = function\n",
    "        self.history = History()        \n",
    "\n",
    "    def using(self, optimizer=(None, None, None), name='sgd', derivatives_based=True, render_decorator: Callable=None):\n",
    "        self.derivatives_based = derivatives_based\n",
    "        self.__init, self.__update, self._get_params = optimizer\n",
    "        self.render_decorator = render_decorator\n",
    "        \n",
    "        # add this to the history object so it can extract the value for presenting them in __repr__\n",
    "        # otherwise we will see a list of `jax` states\n",
    "        self.history._get_params = self._get_params\n",
    "        \n",
    "        #functional polymorphysm ?!\n",
    "        if derivatives_based:\n",
    "            self._update_fn = partial(\n",
    "                _derivatives_based_update, \n",
    "                update_fn=self.__update, \n",
    "                get_params_fn=self._get_params,\n",
    "                grad_fn=grad(self.function, argnums=(0, 1))\n",
    "            )\n",
    "        else:\n",
    "            self._update_fn = partial(\n",
    "                _derivatives_free_update, \n",
    "                update_fn=self.__update, \n",
    "                function=self.function\n",
    "            )\n",
    "\n",
    "        self.optimizer = optimizer\n",
    "        self.optimizer_name = name\n",
    "        return self\n",
    "\n",
    "\n",
    "    def start_from(self, params):\n",
    "        self.state = self.__init(tuple(params))\n",
    "        self.history.append(self.state)\n",
    "        return self\n",
    "\n",
    "    def update(self, nr_iterations=1):\n",
    "        # we add the initial state as state 0, but we haven't made any udpdates yet\n",
    "        # so even if we have something in history, the current_iteration is one behind\n",
    "        current_iteration = len(self.history) - 1   \n",
    "        for i in range(nr_iterations):\n",
    "            self.state = self._update_fn(current_iteration + i, self.state)\n",
    "            self.history.append(self.state)\n",
    "        return self.history"
   ]
  },
  {
   "cell_type": "code",
   "execution_count": null,
   "metadata": {},
   "outputs": [
    {
     "name": "stderr",
     "output_type": "stream",
     "text": [
      "WARNING:absl:No GPU/TPU found, falling back to CPU. (Set TF_CPP_MIN_LOG_LEVEL=0 and rerun for more info.)\n"
     ]
    },
    {
     "data": {
      "text/plain": [
       "[(1.0, 1.0), (1.046, 1.038), (1.093, 1.076), (1.141, 1.114), (1.189, 1.152), (1.238, 1.189), (1.288, 1.226), (1.338, 1.263), (1.389, 1.3), (1.44, 1.336), (1.491, 1.371)]"
      ]
     },
     "execution_count": null,
     "metadata": {},
     "output_type": "execute_result"
    }
   ],
   "source": [
    "from optimisations.functions import himmelblau\n",
    "from jax.experimental.optimizers import sgd\n",
    "\n",
    "(\n",
    "    optimize(himmelblau())\n",
    "        .using(sgd(step_size=0.001))\n",
    "        .start_from([1., 1.])\n",
    "        .update(10)\n",
    ")"
   ]
  },
  {
   "cell_type": "markdown",
   "metadata": {},
   "source": [
    "`JAX` is kind of rough, the optimizers (for now) sit inside the `experimental` submodule which means that their API might change in the future. \n",
    "\n",
    "An optimizer is a function that has some initialization parameters, and which returns 3 functions:\n",
    "* `init` - is a function to which you pass all the initial values of your hidden parameters and you get back a `state` object, which is a `pytree` structure (some internal representation). This is a bit confusing and I'm guessing this intermediate `pytree` thing might disappear from the API in the near future.\n",
    "* `update` - is the function that does a single update pass over the whole parameters. It receives as inputs:\n",
    "    * `i` - the count of the current iteration. This usefull because, depending on the optimizer implementation, you can have different learning properties at each iteration (like some annealing strategy for the learning rate, etc..)\n",
    "    * `g` - the gradient values (you get these by extracting the params from the `state` function, using the `get_params` function bellow (these are the variables that will get updated by the optimizer). Then pass these onto your gradient function and its results as input to this function. \n",
    "    * `state` - that `pytre` structure that you've got after calling `init` (and which you'll contrantly replace with the result of this `update` function call)\n",
    "* `get_params` - a `utils` function that extracts the param object from a known `state` object (which is a `pytree`). "
   ]
  },
  {
   "cell_type": "markdown",
   "metadata": {},
   "source": [
    "So the full flow of the above, in code is shown bellow:"
   ]
  },
  {
   "cell_type": "code",
   "execution_count": null,
   "metadata": {},
   "outputs": [
    {
     "name": "stdout",
     "output_type": "stream",
     "text": [
      "OptimizerState(packed_state=([1.0], [2.0]), tree_def=PyTreeDef(tuple, [*,*]), subtree_defs=(*, *))\n",
      "(1.0, 2.0)\n",
      "OptimizerState(packed_state=([DeviceArray(1.036, dtype=float32)], [DeviceArray(2.032, dtype=float32)]), tree_def=PyTreeDef(tuple, [*,*]), subtree_defs=(*, *))\n"
     ]
    }
   ],
   "source": [
    "from jax.experimental.optimizers import sgd\n",
    "\n",
    "init, update, get_params = sgd(step_size=0.001) # instantiate the optimizer\n",
    "\n",
    "state = init((1., 2.)) # initialize the optimizer state with some initial weights and get a state back\n",
    "print(state)\n",
    "print(get_params(state))    # you use this function to extract the weight values from the state object\n",
    "\n",
    "grad_function = grad(himmelblau(), argnums=(0, 1))  # you build the function that will compute your gradients\n",
    "                                                    # The argnum part is needed because we have to specify that there are two parameters the parent function uses, and we want the derivative to both of them.\n",
    "    \n",
    "state = update(0, grad_function(*get_params(state)), state)    # you call update with a iteration number, the gradient of the params, and the previous state and you get back a new state \n",
    "print(state)"
   ]
  },
  {
   "cell_type": "code",
   "execution_count": null,
   "metadata": {},
   "outputs": [
    {
     "data": {
      "text/plain": [
       "(DeviceArray(-36.385605, dtype=float32),\n",
       " DeviceArray(-30.704094, dtype=float32))"
      ]
     },
     "execution_count": null,
     "metadata": {},
     "output_type": "execute_result"
    }
   ],
   "source": [
    "from jax import grad\n",
    "from optimisations.functions import himmelblau\n",
    "\n",
    "grad(himmelblau(), argnums=(0, 1))(*get_params(state))"
   ]
  },
  {
   "cell_type": "markdown",
   "metadata": {},
   "source": [
    "And you can see the result of running 10 iterations of the above, in a loop. It moves to some direction, and I'm sure you're eager to see where, on the graph..."
   ]
  },
  {
   "cell_type": "code",
   "execution_count": null,
   "metadata": {},
   "outputs": [
    {
     "data": {
      "text/plain": [
       "[(1.0, 2.0),\n",
       " (1.0360000133514404, 2.0320000648498535),\n",
       " (1.0723856687545776, 2.062704086303711),\n",
       " (1.1091352701187134, 2.092081069946289),\n",
       " (1.1462260484695435, 2.1201066970825195),\n",
       " (1.18363356590271, 2.1467630863189697),\n",
       " (1.22133207321167, 2.1720387935638428),\n",
       " (1.2592941522598267, 2.1959288120269775),\n",
       " (1.2974909543991089, 2.2184340953826904),\n",
       " (1.335891842842102, 2.239561080932617)]"
      ]
     },
     "execution_count": null,
     "metadata": {},
     "output_type": "execute_result"
    }
   ],
   "source": [
    "grad_function = grad(himmelblau(), argnums=(0, 1))\n",
    "def run():\n",
    "    state = init((1., 2.))\n",
    "    for i in range(10):\n",
    "        params = get_params(state)\n",
    "        yield params\n",
    "        state = update(i, grad_function(*params), state)\n",
    "    \n",
    "[(float(x), float(y)) for x, y in run()]"
   ]
  },
  {
   "cell_type": "code",
   "execution_count": null,
   "metadata": {},
   "outputs": [],
   "source": [
    "#exporti\n",
    "import re\n",
    "\n",
    "def heuristic_get_jax_optimizer_name(init):\n",
    "    \"\"\"\n",
    "    Tries to find the name of the optimiser used to instantiate the init function, by parting the \n",
    "    string representation of the given function.\n",
    "    \n",
    "    JAX based optimisers usually have the following string representation:\n",
    "    \n",
    "        function jax.experimental.optimizers.sgd.<locals>.init(x0)\n",
    "        function jax.experimental.optimizers.sgd.<locals>.update(i, g, x)\n",
    "        function jax.experimental.optimizers.sgd.<locals>.get_params(x)\n",
    "    \n",
    "    \"\"\"\n",
    "    function_name = str(init)\n",
    "    result = re.search(\"function\\s+([^\\.]+)\", function_name)\n",
    "    if result is not None:\n",
    "        return result.group(1)\n",
    "    else:\n",
    "        None"
   ]
  },
  {
   "cell_type": "code",
   "execution_count": null,
   "metadata": {},
   "outputs": [
    {
     "data": {
      "text/plain": [
       "'sgd'"
      ]
     },
     "execution_count": null,
     "metadata": {},
     "output_type": "execute_result"
    }
   ],
   "source": [
    "heuristic_get_jax_optimizer_name(init)"
   ]
  },
  {
   "cell_type": "code",
   "execution_count": null,
   "metadata": {},
   "outputs": [],
   "source": [
    "#exporti\n",
    "def build_optimizer_params(elements_list):\n",
    "    optimizer_params = dict()\n",
    "    if len(elements_list) == 1:\n",
    "        optimizer_params['optimizer'] = (init, update, get_params) = elements_list[0]\n",
    "        assert callable(init), f\"Expected {init} be a callable.\"\n",
    "        assert callable(update), f\"Expected {update} be a callable.\"\n",
    "        assert callable(get_params), f\"Expected {get_params} be a callable.\"\n",
    "        \n",
    "        optimizer_params['name'] = heuristic_get_jax_optimizer_name(init)\n",
    "    elif len(elements_list) == 2:\n",
    "        optimizer_params = elements_list[1]\n",
    "        optimizer_params['optimizer'] = (init, update, get_params) = elements_list[0]\n",
    "        assert callable(init), f\"Expected {init} be a callable.\"\n",
    "        assert callable(update), f\"Expected {update} be a callable.\"\n",
    "        assert callable(get_params), f\"Expected {get_params} be a callable.\"\n",
    "\n",
    "    elif len(elements_list) == 3:\n",
    "        optimizer_params['optimizer'] = (init, update, get_params) = elements_list\n",
    "        assert callable(init), f\"Expected {init} be a callable.\"\n",
    "        assert callable(update), f\"Expected {update} be a callable.\"\n",
    "        assert callable(get_params), f\"Expected {get_params} be a callable.\"\n",
    "\n",
    "        optimizer_params['name'] = heuristic_get_jax_optimizer_name(init)        \n",
    "    else:\n",
    "        raise f\"\"\"\n",
    "        Unknown optimizer constructor list shape or size {len(elements_list)}. \n",
    "        Expected either \n",
    "            1 for [(init, update, get_params)] or \n",
    "            2 for [(init, update, get_params), \\{other: configs\\}] or\n",
    "            3 for (init, update, get_params)\n",
    "        Received {elements_list}\n",
    "        \"\"\"\n",
    "    return optimizer_params"
   ]
  },
  {
   "cell_type": "code",
   "execution_count": null,
   "metadata": {},
   "outputs": [
    {
     "name": "stdout",
     "output_type": "stream",
     "text": [
      "{'name': 'sgd', 'derivative': True, 'optimizer': Optimizer(init_fn=<function sgd.<locals>.init at 0x1296cab70>, update_fn=<function sgd.<locals>.update at 0x1296cabf8>, params_fn=<function sgd.<locals>.get_params at 0x1296cac80>)}\n",
      "{'optimizer': Optimizer(init_fn=<function sgd.<locals>.init at 0x1296ca950>, update_fn=<function sgd.<locals>.update at 0x1296cac80>, params_fn=<function sgd.<locals>.get_params at 0x1296caae8>), 'name': 'sgd'}\n",
      "{'optimizer': Optimizer(init_fn=<function sgd.<locals>.init at 0x1296cab70>, update_fn=<function sgd.<locals>.update at 0x1296caae8>, params_fn=<function sgd.<locals>.get_params at 0x1296caa60>), 'name': 'sgd'}\n"
     ]
    }
   ],
   "source": [
    "print(build_optimizer_params([sgd(step_size=0.01), {\"name\":\"sgd\", \"derivative\":True}]))\n",
    "print(build_optimizer_params([sgd(step_size=0.01)]))\n",
    "print(build_optimizer_params(sgd(step_size=0.01)))"
   ]
  },
  {
   "cell_type": "code",
   "execution_count": null,
   "metadata": {},
   "outputs": [],
   "source": [
    "#export\n",
    "class optimize_multi:\n",
    "    def __init__(self, function):\n",
    "        self.function = function\n",
    "\n",
    "    def using(self, optimizers):\n",
    "        self.optimizers = optimizers\n",
    "        return self\n",
    "\n",
    "    def start_from(self, params):\n",
    "        self.params = params\n",
    "        return self\n",
    "\n",
    "    def tolist(self):\n",
    "        return [optimize(self.function).using(**build_optimizer_params(optimizer)).start_from(self.params) for optimizer in self.optimizers]"
   ]
  },
  {
   "cell_type": "markdown",
   "metadata": {},
   "source": [
    "When you want to compare the performance of multiple optimizers."
   ]
  },
  {
   "cell_type": "code",
   "execution_count": null,
   "metadata": {},
   "outputs": [
    {
     "data": {
      "text/plain": [
       "[<__main__.optimize at 0x12abfbcf8>, <__main__.optimize at 0x12abfb8d0>]"
      ]
     },
     "execution_count": null,
     "metadata": {},
     "output_type": "execute_result"
    }
   ],
   "source": [
    "from jax.experimental.optimizers import sgd, adam\n",
    "from optimisations.functions import himmelblau\n",
    "\n",
    "(optimizers) = (\n",
    "    optimize_multi(himmelblau())\n",
    "        .using([\n",
    "            sgd(step_size=0.01),\n",
    "            adam(step_size=0.3),\n",
    "        ])\n",
    "        .start_from([-1., 1.])\n",
    "        .tolist()\n",
    ")\n",
    "\n",
    "optimizers"
   ]
  },
  {
   "cell_type": "code",
   "execution_count": null,
   "metadata": {},
   "outputs": [
    {
     "name": "stdout",
     "output_type": "stream",
     "text": [
      "sgd [(-1.0, 1.0), (-1.22, 1.46), (-1.491, 1.977), (-1.805, 2.475), (-2.132, 2.846), (-2.419, 3.036), (-2.619, 3.103), (-2.728, 3.122), (-2.776, 3.128), (-2.795, 3.13), (-2.801, 3.131), (-2.804, 3.131), (-2.805, 3.131), (-2.805, 3.131), (-2.805, 3.131), (-2.805, 3.131), (-2.805, 3.131), (-2.805, 3.131), (-2.805, 3.131), (-2.805, 3.131), (-2.805, 3.131)]\n",
      "adam [(-1.0, 1.0), (-1.3, 1.3), (-1.6, 1.6), (-1.9, 1.901), (-2.201, 2.202), (-2.501, 2.502), (-2.79, 2.796), (-3.044, 3.078), (-3.221, 3.332), (-3.297, 3.534), (-3.288, 3.662), (-3.219, 3.711), (-3.113, 3.695), (-2.988, 3.629), (-2.858, 3.529), (-2.737, 3.408), (-2.634, 3.278), (-2.557, 3.149), (-2.507, 3.031), (-2.486, 2.929), (-2.491, 2.85)]\n"
     ]
    }
   ],
   "source": [
    "for optimizer in optimizers:\n",
    "    print(optimizer.optimizer_name, optimizer.update(10))"
   ]
  },
  {
   "cell_type": "code",
   "execution_count": null,
   "metadata": {},
   "outputs": [],
   "source": []
  }
 ],
 "metadata": {
  "kernelspec": {
   "display_name": "Python 3",
   "language": "python",
   "name": "python3"
  }
 },
 "nbformat": 4,
 "nbformat_minor": 4
}
